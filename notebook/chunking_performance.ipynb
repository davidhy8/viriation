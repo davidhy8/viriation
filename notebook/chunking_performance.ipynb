{
 "cells": [
  {
   "cell_type": "markdown",
   "id": "3bdbc7f8-5313-48a3-bad3-0aabf59bbd0d",
   "metadata": {},
   "source": [
    "# Exploration of model performance\n",
    "\n",
    "Testing the performance of the model to predict different parts of a full-text paper (start, middle, end)"
   ]
  },
  {
   "cell_type": "code",
   "execution_count": 1,
   "id": "d2e94501-15be-462c-a567-f39b792e4ce1",
   "metadata": {},
   "outputs": [],
   "source": [
    "import pandas as pd\n",
    "import numpy as np"
   ]
  },
  {
   "cell_type": "markdown",
   "id": "db6a0847-c2ab-4981-b836-1beaeae62efb",
   "metadata": {
    "jp-MarkdownHeadingCollapsed": true
   },
   "source": [
    "# Load and process data"
   ]
  },
  {
   "cell_type": "code",
   "execution_count": 2,
   "id": "0b891936-b925-4c1a-b0cb-7d8c8d2503e4",
   "metadata": {},
   "outputs": [],
   "source": [
    "# Load predictions from pokay data trained model\n",
    "model_results = pd.read_csv(\"test_predictions_model_1.csv\")\n",
    "\n",
    "# Load predictions from pokay + retrain data trained model\n",
    "model_v2_results = pd.read_csv(\"test_predictions_model_v2.csv\")"
   ]
  },
  {
   "cell_type": "code",
   "execution_count": 3,
   "id": "2c60228d-adab-4997-a8d6-0c81efc03b24",
   "metadata": {},
   "outputs": [],
   "source": [
    "# Categorize the text chunks based on it's position in the paper\n",
    "def categorize_chunks(group):\n",
    "    n = len(group)\n",
    "    categories = []\n",
    "\n",
    "    for i in range(n):\n",
    "        if i == 0:\n",
    "            categories.append('beginning')\n",
    "        elif i == 1:\n",
    "            categories.append('beginning')\n",
    "        elif i == n-1:\n",
    "            categories.append('end')\n",
    "        else:\n",
    "            categories.append('middle')\n",
    "\n",
    "    return pd.Series(categories, index = group.index)"
   ]
  },
  {
   "cell_type": "code",
   "execution_count": 4,
   "id": "4e285908-4e8e-491a-9ced-e36446cda67b",
   "metadata": {},
   "outputs": [],
   "source": [
    "# Create another column to describe whether the prediction was correct\n",
    "def process_data(df):\n",
    "    # See if prediction is correct\n",
    "    df[\"correct\"] = df[\"prediction\"] == df[\"label\"]\n",
    "\n",
    "    # Label papers in data\n",
    "    paper_labels = []\n",
    "    current_paper = 1\n",
    "    \n",
    "    for i in range(len(df)):\n",
    "        # Increase paper count if current position is smaller than previous position (indicates new paper)\n",
    "        if i > 0 and df.loc[i, 'position'] <= df.loc[i-1, 'position']:\n",
    "            current_paper += 1\n",
    "        paper_labels.append(current_paper)\n",
    "\n",
    "    df['paper'] = paper_labels\n",
    "\n",
    "    # Categorize text chunks\n",
    "    df['category'] = df.groupby('paper').apply(categorize_chunks).reset_index(level=0, drop=True)\n",
    "    \n",
    "    return df"
   ]
  },
  {
   "cell_type": "code",
   "execution_count": 5,
   "id": "93064ea5-7894-4896-94f6-57773e6c9ea1",
   "metadata": {},
   "outputs": [],
   "source": [
    "# Process papers\n",
    "model_results = process_data(model_results)\n",
    "\n",
    "model_v2_results = process_data(model_v2_results)"
   ]
  },
  {
   "cell_type": "markdown",
   "id": "127d2cd9-de88-4b41-be9c-0146547f1dae",
   "metadata": {},
   "source": [
    "# Compute metrics"
   ]
  },
  {
   "cell_type": "code",
   "execution_count": 8,
   "id": "d282989b-3e61-4c53-89a2-745980cdf4c9",
   "metadata": {},
   "outputs": [],
   "source": [
    "from sklearn.metrics import accuracy_score, precision_recall_fscore_support"
   ]
  },
  {
   "cell_type": "code",
   "execution_count": 7,
   "id": "4c085989-9d0b-48af-8e0f-e4c9fb538616",
   "metadata": {},
   "outputs": [],
   "source": [
    "def compute_metrics(df):\n",
    "    labels = df[\"label\"]\n",
    "    preds = df[\"prediction\"]\n",
    "    precision, recall, f1, _ = precision_recall_fscore_support(labels, preds, average='binary')\n",
    "    acc = accuracy_score(labels, preds)\n",
    "\n",
    "    return {\n",
    "        'accuracy': acc,\n",
    "        'f1': f1,\n",
    "        'precision': precision,\n",
    "        'recall': recall\n",
    "    }"
   ]
  },
  {
   "cell_type": "code",
   "execution_count": 9,
   "id": "8b29a99f-9c2d-430e-b4e2-f3df46841a49",
   "metadata": {},
   "outputs": [
    {
     "data": {
      "text/plain": [
       "{'accuracy': 0.6666666666666666,\n",
       " 'f1': 0.7058823529411764,\n",
       " 'precision': 0.6,\n",
       " 'recall': 0.8571428571428571}"
      ]
     },
     "execution_count": 9,
     "metadata": {},
     "output_type": "execute_result"
    }
   ],
   "source": [
    "# Performance metrics for beginning\n",
    "compute_metrics(model_results[model_results[\"category\"] == \"beginning\"])"
   ]
  },
  {
   "cell_type": "code",
   "execution_count": 10,
   "id": "085f02f0-c49e-4325-aad3-47131f210331",
   "metadata": {},
   "outputs": [
    {
     "data": {
      "text/plain": [
       "{'accuracy': 0.6699029126213593,\n",
       " 'f1': 0.6730769230769229,\n",
       " 'precision': 0.5147058823529411,\n",
       " 'recall': 0.9722222222222222}"
      ]
     },
     "execution_count": 10,
     "metadata": {},
     "output_type": "execute_result"
    }
   ],
   "source": [
    "# Performance metrics for middle\n",
    "compute_metrics(model_results[model_results[\"category\"] == \"middle\"])"
   ]
  },
  {
   "cell_type": "code",
   "execution_count": 11,
   "id": "ac407fc4-40d5-403c-b225-86a1eb3a456d",
   "metadata": {},
   "outputs": [
    {
     "data": {
      "text/plain": [
       "{'accuracy': 0.42857142857142855,\n",
       " 'f1': 0.5,\n",
       " 'precision': 0.3333333333333333,\n",
       " 'recall': 1.0}"
      ]
     },
     "execution_count": 11,
     "metadata": {},
     "output_type": "execute_result"
    }
   ],
   "source": [
    "# Performance metrics for end\n",
    "compute_metrics(model_results[model_results[\"category\"] == \"end\"])"
   ]
  },
  {
   "cell_type": "code",
   "execution_count": 12,
   "id": "0a6d3da6-f1e6-4118-a9f5-be0b8e9b3a94",
   "metadata": {},
   "outputs": [
    {
     "data": {
      "text/plain": [
       "{'accuracy': 0.7333333333333333,\n",
       " 'f1': 0.7777777777777778,\n",
       " 'precision': 0.6363636363636364,\n",
       " 'recall': 1.0}"
      ]
     },
     "execution_count": 12,
     "metadata": {},
     "output_type": "execute_result"
    }
   ],
   "source": [
    "# Performance metrics for beginning\n",
    "compute_metrics(model_v2_results[model_v2_results[\"category\"] == \"beginning\"])"
   ]
  },
  {
   "cell_type": "code",
   "execution_count": 13,
   "id": "6429b4bb-c8b1-4fe8-99f8-01143f363e02",
   "metadata": {},
   "outputs": [
    {
     "data": {
      "text/plain": [
       "{'accuracy': 0.6893203883495146,\n",
       " 'f1': 0.6862745098039216,\n",
       " 'precision': 0.5303030303030303,\n",
       " 'recall': 0.9722222222222222}"
      ]
     },
     "execution_count": 13,
     "metadata": {},
     "output_type": "execute_result"
    }
   ],
   "source": [
    "# Performance metrics for middle\n",
    "compute_metrics(model_v2_results[model_v2_results[\"category\"] == \"middle\"])"
   ]
  },
  {
   "cell_type": "code",
   "execution_count": 16,
   "id": "bcc19c9e-8675-43c7-8f3d-997635dfdc82",
   "metadata": {},
   "outputs": [
    {
     "data": {
      "text/plain": [
       "{'accuracy': 0.42857142857142855,\n",
       " 'f1': 0.5,\n",
       " 'precision': 0.3333333333333333,\n",
       " 'recall': 1.0}"
      ]
     },
     "execution_count": 16,
     "metadata": {},
     "output_type": "execute_result"
    }
   ],
   "source": [
    "# Performance metrics for end\n",
    "compute_metrics(model_v2_results[model_v2_results[\"category\"] == \"end\"])"
   ]
  },
  {
   "cell_type": "markdown",
   "id": "db3620a8-e8bf-4e1c-9150-276311c02092",
   "metadata": {},
   "source": [
    "# Visualize results"
   ]
  },
  {
   "cell_type": "code",
   "execution_count": 23,
   "id": "3263e5aa-cacb-4185-b24f-fa9e62866137",
   "metadata": {},
   "outputs": [
    {
     "name": "stderr",
     "output_type": "stream",
     "text": [
      "Matplotlib created a temporary cache directory at /tmp/matplotlib-du73bhag because the default path (/home/jovyan/.cache/matplotlib) is not a writable directory; it is highly recommended to set the MPLCONFIGDIR environment variable to a writable directory, in particular to speed up the import of Matplotlib and to better support multiprocessing.\n"
     ]
    }
   ],
   "source": [
    "import matplotlib.pyplot as plt"
   ]
  },
  {
   "cell_type": "code",
   "execution_count": 21,
   "id": "0115e724-eb8e-4a13-b1f0-b5ea9fcbf884",
   "metadata": {},
   "outputs": [
    {
     "name": "stdout",
     "output_type": "stream",
     "text": [
      "    category  Accuracy\n",
      "0  beginning  0.666667\n",
      "1        end  0.428571\n",
      "2     middle  0.669903\n"
     ]
    }
   ],
   "source": [
    "# Calculate accuracy for each category\n",
    "def calculate_accuracy(group):\n",
    "    return np.mean(group['label'] == group['prediction'])\n",
    "\n",
    "accuracy_by_category = model_results.groupby('category').apply(calculate_accuracy).reset_index(name='Accuracy')\n",
    "accuracy_by_category_v2 = model_v2_results.groupby('category').apply(calculate_accuracy).reset_index(name='Accuracy')\n",
    "\n",
    "print(accuracy_by_category)"
   ]
  },
  {
   "cell_type": "code",
   "execution_count": 24,
   "id": "3b031bc6-8d26-4ae2-b202-c5e388abe5b8",
   "metadata": {},
   "outputs": [
    {
     "data": {
      "image/png": "[encoded data removed]",
      "text/plain": [
       "<Figure size 800x600 with 1 Axes>"
      ]
     },
     "metadata": {},
     "output_type": "display_data"
    }
   ],
   "source": [
    "# Plot accuracy by category\n",
    "plt.figure(figsize=(8, 6))\n",
    "plt.bar(accuracy_by_category['category'], accuracy_by_category['Accuracy'], color=['skyblue', 'lightgreen', 'salmon'])\n",
    "plt.xlabel('Category')\n",
    "plt.ylabel('Accuracy')\n",
    "plt.title('Accuracy by Category')\n",
    "plt.ylim(0, 1)  # Accuracy ranges from 0 to 1\n",
    "for i, v in enumerate(accuracy_by_category['Accuracy']):\n",
    "    plt.text(i, v + 0.02, f\"{v:.2f}\", ha='center', va='bottom')\n",
    "\n",
    "plt.show()"
   ]
  },
  {
   "cell_type": "code",
   "execution_count": 25,
   "id": "e4d7930f-b288-4ec3-ae04-aded0b2cf9cb",
   "metadata": {},
   "outputs": [
    {
     "data": {
      "image/png": "[encoded data removed]",
      "text/plain": [
       "<Figure size 800x600 with 1 Axes>"
      ]
     },
     "metadata": {},
     "output_type": "display_data"
    }
   ],
   "source": [
    "# Plot accuracy by category\n",
    "plt.figure(figsize=(8, 6))\n",
    "plt.bar(accuracy_by_category_v2['category'], accuracy_by_category_v2['Accuracy'], color=['skyblue', 'lightgreen', 'salmon'])\n",
    "plt.xlabel('Category')\n",
    "plt.ylabel('Accuracy')\n",
    "plt.title('Accuracy by Category model v2')\n",
    "plt.ylim(0, 1)  # Accuracy ranges from 0 to 1\n",
    "for i, v in enumerate(accuracy_by_category_v2['Accuracy']):\n",
    "    plt.text(i, v + 0.02, f\"{v:.2f}\", ha='center', va='bottom')\n",
    "\n",
    "plt.show()"
   ]
  }
 ],
 "metadata": {
  "kernelspec": {
   "display_name": "Python 3 (ipykernel)",
   "language": "python",
   "name": "python3"
  },
  "language_info": {
   "codemirror_mode": {
    "name": "ipython",
    "version": 3
   },
   "file_extension": ".py",
   "mimetype": "text/x-python",
   "name": "python",
   "nbconvert_exporter": "python",
   "pygments_lexer": "ipython3",
   "version": "3.11.5"
  }
 },
 "nbformat": 4,
 "nbformat_minor": 5
}
