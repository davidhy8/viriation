{
 "cells": [
  {
   "cell_type": "markdown",
   "id": "619f8584-c5e4-4d36-a613-b14079405f18",
   "metadata": {},
   "source": [
    "# Pokay processor\n",
    "\n",
    "The purpose of this notebook is to process the [pokay github](https://github.com/nodrogluap/pokay) directory into machine readable data that can be used to train downstream models to recognize whether a scientific literature is reporting new mutations regarding our virus of interest.\n",
    "\n",
    "The pokay repository organizes mutation annotations in text files with the following formatting:\n",
    "\n",
    "```\n",
    "# This mutation demonstrates that glutathionylation (in vivo oxidative post-translational modification of cysteine) of Mpro/NSP5 residue C300\r\n",
    "# is responsible for controlling the dimerization of the protein, where the monomer's protease activity is hampereed by the collapsing \r\n",
    "# of the active site pocket.\r\n",
    "# Davis et al. (2021) https://doi.org/10.1101/2021.04.09.439169 [Preprint (BioRxiv); Now published at: https://doi.org/10.1128/mbio.02094-21]\r\n",
    "C\n",
    "```\n",
    "```"
   ]
  },
  {
   "cell_type": "markdown",
   "id": "9b6a21a2-6fdf-4af8-9113-d60a8ec55654",
   "metadata": {},
   "source": [
    "Our aim is to obtain the DOI of all publications and preprints and ultimately through a variety of conversions and web-scraping methods, obtain the BioC JSON for each of the literature."
   ]
  },
  {
   "cell_type": "code",
   "execution_count": null,
   "id": "85102636-76c1-4449-9f46-3a66bd8c2ae6",
   "metadata": {},
   "outputs": [],
   "source": [
    "import re\n",
    "import urllib.request\n",
    "from pathlib import Path\n",
    "from collections import defaultdict\n",
    "import os\n",
    "from metapub.convert import doi2pmid\n",
    "import requests\n",
    "from ratelimit import limits, sleep_and_retry\n",
    "from bs4 import BeautifulSoup\n",
    "import json\n",
    "import lxml.etree as ET\n",
    "import subprocess\n",
    "import copy"
   ]
  },
  {
   "cell_type": "code",
   "execution_count": null,
   "id": "ac5c1540-6eab-42e3-b28c-616d76e217ab",
   "metadata": {},
   "outputs": [],
   "source": [
    "# Environment variable\n",
    "%env NCBI_API_KEY=\"6667a919224612da1287d74ff0d3f7b5e208\"\n",
    "\n",
    "# Regex format of DOI links, mutations, blocks, and literature type\n",
    "doi_pattern = r'https:\\/\\/doi\\.org\\/[\\w/.-]+'\n",
    "mutation_pattern = r'(.*)?\\n\\n'\n",
    "block_pattern = r'(?:(?<=\\n\\n)|^)(.+?)(?=\\n\\n|\\Z)'\n",
    "literature_pattern = r'(?<=\\[)(.*?)(?=\\])'\n",
    "url_pattern_alone = r'https:\\/\\/[^\\s]+'\n",
    "url_pattern = r'https?:\\/\\/[\\w\\/.%()-]+(?=\\s*\\[[^\\]]*\\])'\n",
    "url_and_lit_pattern = r'https?:\\/\\/[\\w\\/.%()-]+\\s+\\[(.*?)\\]'"
   ]
  },
  {
   "cell_type": "markdown",
   "id": "ecf90890-d179-4ed9-a3b9-e442613d8a13",
   "metadata": {},
   "source": [
    "# Helper functions\n",
    "\n",
    "Helper functions to perform various subtasks for literature mining"
   ]
  },
  {
   "cell_type": "code",
   "execution_count": null,
   "id": "4a079878-5af5-4bbc-9c23-ec64d169233b",
   "metadata": {},
   "outputs": [],
   "source": [
    "# Categorize entries in Pokay\n",
    "def recategorize_pokay(directory):\n",
    "    # Dictionary of doi to BioC JSON files \n",
    "    publication_bioc = {}\n",
    "    grey_bioc = {}\n",
    "    rxiv_bioc = {}\n",
    "\n",
    "    # Dictionary of doi to pokay mutation summaries from that article\n",
    "    publication_key = defaultdict(list)\n",
    "    grey_key = defaultdict(list)\n",
    "    rxiv_key = defaultdict(list)\n",
    "    \n",
    "    # Retrieve all files from Pokay directory\n",
    "    files = Path(directory).glob('*/*')\n",
    "    \n",
    "    # Iterate through all files in the pokay directory\n",
    "    for file in files:\n",
    "        with open(file, 'r') as f:\n",
    "        \n",
    "            # Read file\n",
    "            file_contents = f.read()\n",
    "    \n",
    "            # Find all mutations\n",
    "            # mutations = re.findall(mutation_pattern, file_contents)\n",
    "    \n",
    "            # Find all text blocks\n",
    "            text_blocks = re.findall(block_pattern, file_contents, re.DOTALL)\n",
    "    \n",
    "            # Iterate through all text blocks\n",
    "            for text in text_blocks:\n",
    "                \n",
    "                # Find article types\n",
    "                article_type = re.findall(url_and_lit_pattern, text)\n",
    "\n",
    "                # Find url links\n",
    "                matches = re.findall(url_pattern, text)\n",
    "\n",
    "                # If no article type provided, check format of the link\n",
    "                if len(article_type)==0:\n",
    "                    url = re.search(url_pattern_alone, text)\n",
    "\n",
    "                    if url:\n",
    "                        doi = re.search(doi_pattern, url.group())\n",
    "                        \n",
    "                        # Check if it is preprint\n",
    "                        if doi:\n",
    "                            rxiv_key[doi.group()].append(text)\n",
    "                            rxiv_bioc[doi.group()] = None\n",
    "                        # Otherwise, grey literature\n",
    "                        else:\n",
    "                            grey_key[url.group()].append(text)\n",
    "                            grey_bioc[url.group()] = None\n",
    "                    continue\n",
    "                \n",
    "                for i in range(len(article_type)):\n",
    "    \n",
    "                    if \"Journal publication\" in article_type[i]:\n",
    "                        # Search for the DOI of the publication\n",
    "                        # doi = re.search(doi_pattern, text).group()\n",
    "                        doi = matches[i]\n",
    "                        publication_key[doi].append(text)\n",
    "                        publication_bioc[doi] = None\n",
    "                        \n",
    "                    elif \"Preprint\" in article_type[i]:\n",
    "                        # Check if new DOI is provided\n",
    "                        # doi = re.search(doi_pattern, article_type[-1])\n",
    "                        doi = re.search(doi_pattern, article_type[i])\n",
    "                        \n",
    "                        # Check if Rxiv is now published\n",
    "                        if doi is not None:\n",
    "                            publication_key[doi.group()].append(text)\n",
    "                            publication_bioc[doi.group()] = None\n",
    "        \n",
    "                        # Store as Rxiv\n",
    "                        else:\n",
    "                            # doi = re.search(doi_pattern, text)\n",
    "                            doi = matches[i]\n",
    "                            # DOI link provided\n",
    "                            if doi is not None:\n",
    "                                # rxiv_key[doi.group()].append(text)\n",
    "                                # rxiv_bioc[doi.group()] = None\n",
    "                                rxiv_key[doi].append(text)\n",
    "                                rxiv_bioc[doi] = None\n",
    "                            # DOI link not provided\n",
    "                            else: \n",
    "                                # rxiv_key[re.search(url_pattern, text).group()].append(text)\n",
    "                                # rxiv_bioc[re.search(url_pattern, text).group()] = None\n",
    "                                print(\"special case\")\n",
    "    \n",
    "                    # Check if the article is grey literature\n",
    "                    elif \"Grey literature\" in article_type[i]:\n",
    "                        # Search for url link\n",
    "                        # url = re.search(url_pattern, text)\n",
    "                        url = matches[i]\n",
    "                        if url is not None:\n",
    "                            # grey_key[url.group()].append(text)\n",
    "                            # grey_bioc[url.group()] = None\n",
    "                            grey_key[url].append(text)\n",
    "                            grey_bioc[url] = None\n",
    "                    \n",
    "                    # All other groups categorize as grey literature\n",
    "                    # else:\n",
    "                    #     url = re.search(url_pattern, text)\n",
    "                    #     if url is not None:\n",
    "                    #         grey_key[url.group()].append(text)\n",
    "                    #         grey_bioc[url.group()] = None\n",
    "\n",
    "    return publication_bioc, publication_key, rxiv_bioc, rxiv_key, grey_bioc, grey_key"
   ]
  },
  {
   "cell_type": "code",
   "execution_count": null,
   "id": "36e9c7cc-28aa-4abb-a7cc-7c9cd942e3e1",
   "metadata": {},
   "outputs": [],
   "source": [
    "# Obtain BioC JSON file from PMID or PMC with a maximum of 3 API calls per second\n",
    "@sleep_and_retry\n",
    "@limits(calls=3, period=1)\n",
    "def get_pubtator_bioc_json(id):\n",
    "    # API link for BioC\n",
    "    url = \"https://www-ncbi-nlm-nih-gov.ezproxy.lib.ucalgary.ca/research/bionlp/RESTful/pmcoa.cgi/BioC_json/\" + str(id) + \"/unicode\"\n",
    "    bioc = requests.get(url, allow_redirects=True)\n",
    "\n",
    "    if bioc.status_code != 200:\n",
    "        raise ConnectionError('could not download {}\\nerror code: {}'.format(url, bioc.status_code))\n",
    "        return None\n",
    "\n",
    "    if bioc.content.decode('utf-8') == '[]':\n",
    "        return None\n",
    "    \n",
    "    return (bioc.content.decode('utf-8'))"
   ]
  },
  {
   "cell_type": "code",
   "execution_count": null,
   "id": "0b0ab08e-a6b0-45d3-a711-ac39c9142417",
   "metadata": {},
   "outputs": [],
   "source": [
    "bioc = get_pubtator_bioc_json(9005165)\n",
    "print(bioc)"
   ]
  },
  {
   "cell_type": "code",
   "execution_count": null,
   "id": "ed730892-c5e7-428c-ac33-51718d14b83e",
   "metadata": {},
   "outputs": [],
   "source": [
    "# Obtain PMID ID from DOI link with a maximum of 3 API calls per second\n",
    "@sleep_and_retry\n",
    "@limits(calls=3, period=1)\n",
    "def get_pmid(doi):\n",
    "    # pmid = doi2pmid(doi)\n",
    "    doi_part = doi.split('doi.org/')[-1]\n",
    "\n",
    "    # Api link for paper details\n",
    "    api_link = 'https://www-ncbi-nlm-nih-gov.ezproxy.lib.ucalgary.ca/pmc/utils/idconv/v1.0/?tool=doi2pmid&email=david.yang1@ucalgary.ca&ids=' + doi_part\n",
    "    paper = requests.get(api_link)\n",
    "    soup = BeautifulSoup(paper.content, \"xml\")\n",
    "        \n",
    "    pmid = soup.find('record')['pmid']\n",
    "    return pmid"
   ]
  },
  {
   "cell_type": "code",
   "execution_count": null,
   "id": "40f1cb8b-2020-43cc-89b3-a1864e05a894",
   "metadata": {},
   "outputs": [],
   "source": [
    "# Get metadata of Rxiv paper\n",
    "@sleep_and_retry\n",
    "@limits(calls=1, period=1)\n",
    "def get_rxiv_details(doi, is_biorxiv):\n",
    "    doi_part = doi.split('doi.org/')[-1]\n",
    "    \n",
    "    if is_biorxiv:\n",
    "        api_link = 'https://api.biorxiv.org/details/biorxiv/' + doi_part\n",
    "    else:\n",
    "        api_link = 'https://api.medrxiv.org/details/medrxiv/' + doi_part\n",
    "    \n",
    "    preprint_details = requests.get(api_link)\n",
    "    \n",
    "    if preprint_details.status_code != 200:\n",
    "        raise ConnectionError('could not download {}\\nerror code: {}'.format(api_link, preprint_details.status_code))\n",
    "        return None\n",
    "    \n",
    "    return preprint_details.content"
   ]
  },
  {
   "cell_type": "code",
   "execution_count": null,
   "id": "2f24f024-ce91-4221-a307-67b68d13b668",
   "metadata": {},
   "outputs": [],
   "source": [
    "# Get PMID of Rxiv paper\n",
    "@sleep_and_retry\n",
    "@limits(calls=3, period=1)\n",
    "def get_rxiv_pmid(doi, is_biorxiv):\n",
    "    details = get_rxiv_details(doi,is_biorxiv).decode('utf-8')\n",
    "    pmid = None\n",
    "    \n",
    "    # Load the JSON data\n",
    "    data = json.loads(details)\n",
    "    title = data['collection'][0]['title']\n",
    "    modified_title = title.replace(\" \", \"%20\")\n",
    "    pubmed_link = \"http://eutils.ncbi.nlm.nih.gov/entrez/eutils/esearch.fcgi?db=pubmed&retmode=json&retmax=1000&term=\" + modified_title + \"&field=title\"\n",
    "    \n",
    "    data_json = requests.get(pubmed_link).content.decode('utf-8')\n",
    "    data = json.loads(data_json)\n",
    "    pmid = data['esearchresult']['idlist'][0]\n",
    "\n",
    "    return pmid"
   ]
  },
  {
   "cell_type": "code",
   "execution_count": null,
   "id": "00d3ba21-0d6f-4297-9a93-6f69e33cb127",
   "metadata": {},
   "outputs": [],
   "source": [
    "def get_rxiv_published_doi(details):\n",
    "    data = json.loads(details)\n",
    "\n",
    "    # Check if it is published\n",
    "    if \"published\" in data[\"collection\"][0]:\n",
    "        doi = \"https://doi.org/\" + data['collection'][0]['published']\n",
    "        return doi\n",
    "    else:\n",
    "        return None "
   ]
  },
  {
   "cell_type": "code",
   "execution_count": null,
   "id": "37ab00e9-6774-4e4e-a682-314dafa8e16c",
   "metadata": {},
   "outputs": [],
   "source": [
    "def get_rxiv_jats_xml(details):\n",
    "    data = json.loads(details)\n",
    "    \n",
    "    # Grab the JATS XML\n",
    "    jatsxml_url = data['collection'][0]['jatsxml']\n",
    "    jats_xml = requests.get(jatsxml_url).content.decode('utf-8')\n",
    "    return jats_xml"
   ]
  },
  {
   "cell_type": "code",
   "execution_count": null,
   "id": "24c2b540-6ff4-4780-aa56-aea752859a5b",
   "metadata": {},
   "outputs": [],
   "source": [
    "def convert_jatsxml_to_html(input_file, output_file):\n",
    "    # dom = ET.parse(input_file)\n",
    "    dom = ET.fromstring(input_file)\n",
    "\n",
    "    # XSL style sheet\n",
    "    xslt = ET.parse('../data/other/jats-to-html.xsl')\n",
    "    transform = ET.XSLT(xslt)\n",
    "    newdom = transform(dom)\n",
    "    newdom.write_output(output_file)"
   ]
  },
  {
   "cell_type": "code",
   "execution_count": null,
   "id": "041e9d08-3dc9-40b9-a701-871b4bfcc919",
   "metadata": {},
   "outputs": [],
   "source": [
    "def command_line_call(call):\n",
    "    x = call.split(\" \")\n",
    "    subprocess.run(x)"
   ]
  },
  {
   "cell_type": "code",
   "execution_count": null,
   "id": "169b003c-a571-4dd2-965e-a5785a1e0b49",
   "metadata": {},
   "outputs": [],
   "source": [
    "def get_journal_publication_bioc(dict, isPmidDict = False):\n",
    "    count = 0\n",
    "    unk_dict = {}\n",
    "    for key in dict:\n",
    "        rxiv = False\n",
    "        count += 1 \n",
    "\n",
    "        if count > 1000:\n",
    "            break\n",
    "        \n",
    "        bioc = None\n",
    "        \n",
    "        try:\n",
    "            # Convert to PMID\n",
    "            if isPmidDict:\n",
    "                pmid = key\n",
    "            else:\n",
    "                pmid = get_pmid(key)\n",
    "            bioc = get_pubtator_bioc_json(pmid)\n",
    "            if bioc == '[]':\n",
    "                bioc = None\n",
    "        except:\n",
    "            # Alternative way to get bioc\n",
    "            # print(key)\n",
    "            bioc = None\n",
    "            pass\n",
    "\n",
    "        if bioc is None:\n",
    "            try:\n",
    "                pmid = doi2pmid(doi)\n",
    "                bioc = get_pubtator_bioc_json(pmid)\n",
    "                if bioc == '[]':\n",
    "                    bioc = None\n",
    "            except:\n",
    "                # Alternative way to get bioc\n",
    "                # print(key)\n",
    "                bioc = None\n",
    "                pass\n",
    "\n",
    "        # Check if it is a preprint\n",
    "        if bioc is None or bioc == '[]':\n",
    "            unk_dict[key] = None\n",
    "            continue\n",
    "\n",
    "        dict[key] = bioc\n",
    "\n",
    "    for key in unk_dict:\n",
    "        dict.pop(key, None)\n",
    "        \n",
    "\n",
    "    return dict, unk_dict"
   ]
  },
  {
   "cell_type": "code",
   "execution_count": null,
   "id": "98314b0f-e588-4cd5-b9e4-ebcbb9f0d221",
   "metadata": {},
   "outputs": [],
   "source": [
    "# key = \"https://doi.org/10.1126/science.abl6184\"\n",
    "\n",
    "# bioc = None\n",
    "        \n",
    "# try:\n",
    "#     # Convert to PMID\n",
    "#     pmid = get_pmid(key)\n",
    "#     bioc = get_pubtator_bioc_json(pmid)\n",
    "#     if bioc == '[]':\n",
    "#         bioc = None\n",
    "# except:\n",
    "#     # Alternative way to get bioc\n",
    "#     # print(key)\n",
    "#     bioc = None\n",
    "#     pass\n",
    "# bioc"
   ]
  },
  {
   "cell_type": "code",
   "execution_count": null,
   "id": "3be9463f-87a9-4de1-aa7c-2a10900141f0",
   "metadata": {},
   "outputs": [],
   "source": [
    "def get_rxiv_bioc(dict):\n",
    "    count = 0\n",
    "    unk_dict = {}\n",
    "    for key in dict:\n",
    "        bioc = None\n",
    "        converted = False\n",
    "        biorxiv = True\n",
    "        details = None\n",
    "        \n",
    "        count += 1\n",
    "\n",
    "        if count > 100:\n",
    "            break\n",
    "        \n",
    "        # Get PMID as BioRxiv\n",
    "        try:\n",
    "            # Convert to PMID\n",
    "            pmid = get_rxiv_pmid(key, is_biorxiv=True)\n",
    "            bioc_temp = get_pubtator_bioc_json(pmid)\n",
    "            if bioc_temp != '[]' and bioc_temp is not None:\n",
    "                    bioc = bioc_temp\n",
    "                    converted = True\n",
    "        except:\n",
    "            # cannot_convert_m1 += 1\n",
    "            converted = False\n",
    "            # print(\"fail bio pmid\")\n",
    "            pass\n",
    "    \n",
    "        # Get PMID as MedRxiv\n",
    "        if converted == False:\n",
    "            try:\n",
    "                # Convert to PMID\n",
    "                pmid = get_rxiv_pmid(key, is_biorxiv=False)\n",
    "                bioc_temp = get_pubtator_bioc_json(pmid)\n",
    "                if bioc_temp != '[]' and bioc_temp is not None:\n",
    "                    bioc = bioc_temp\n",
    "                    converted = True\n",
    "            except:\n",
    "                # cannot_convert_m1 += 1\n",
    "                converted = False\n",
    "                # print(\"fail med pmid\")\n",
    "                pass\n",
    "\n",
    "        if converted == False:\n",
    "        # Convert to PMID then BioC using another tool\n",
    "            try:\n",
    "                # Convert to DOI then PMID then BioC\n",
    "                pmid = get_pmid(key)\n",
    "                bioc_temp = get_pubtator_bioc_json(pmid)\n",
    "                if bioc_temp != '[]' and bioc_temp is not None:\n",
    "                    bioc = bioc_temp\n",
    "                    converted = True\n",
    "            except:\n",
    "                # cannot_convert_m2 += 1\n",
    "                converted = False\n",
    "                # print(\"no doi\")\n",
    "                pass\n",
    "    \n",
    "        # Successful, goto next key\n",
    "        if bioc and bioc != \"[]\":\n",
    "            dict[key] = bioc\n",
    "            # print(\"done\")\n",
    "            continue\n",
    "    \n",
    "        # Try to get details as BioRxiv\n",
    "        try: \n",
    "            details = get_rxiv_details(key, is_biorxiv=True).decode('utf-8')\n",
    "    \n",
    "        except:\n",
    "            biorxiv = False\n",
    "            converted = False\n",
    "            # print(\"fail bio detail\")\n",
    "    \n",
    "        if details:\n",
    "            status = json.loads(details)\n",
    "            status = status['messages'][0]['status']\n",
    "    \n",
    "            if status != 'ok': \n",
    "                biorxiv = False\n",
    "        \n",
    "        # Try to get details as MedRxiv\n",
    "        if biorxiv == False:\n",
    "            try:\n",
    "                details = get_rxiv_details(key, is_biorxiv=False).decode('utf-8')\n",
    "            except:\n",
    "                # print(\"fail med detail\")\n",
    "                continue\n",
    "\n",
    "        if converted == False:\n",
    "        # Convert to PMID then BioC using another tool\n",
    "            try:\n",
    "                # Convert to DOI then PMID then BioC\n",
    "                doi = get_rxiv_published_doi(details)\n",
    "                pmid = get_pmid(doi)\n",
    "                bioc_temp = get_pubtator_bioc_json(pmid)\n",
    "                if bioc_temp != '[]' and bioc_temp is not None:\n",
    "                    bioc = bioc_temp\n",
    "                    converted = True\n",
    "            except:\n",
    "                # cannot_convert_m2 += 1\n",
    "                converted = False\n",
    "                # print(\"no published doi\")\n",
    "                pass\n",
    "    \n",
    "        # Retreive JATS XML then convert to HTML for later conversions\n",
    "        if converted == False or bioc == \"[]\":\n",
    "            try:\n",
    "                jats_xml = get_rxiv_jats_xml(details)\n",
    "                file_name = key.split('doi.org/')[-1]\n",
    "                # Replace . in DOI with -\n",
    "                file_name = file_name.replace(\".\", \"-\")\n",
    "                # Replace / in DOI with _\n",
    "                file_name = file_name.replace(\"/\", \"_\")\n",
    "                output_file = '../data/pokay/processed/html/' + file_name + \".html\"\n",
    "                convert_jatsxml_to_html(jats_xml, output_file)\n",
    "                bioc = \"converting\"\n",
    "            except:\n",
    "                bioc = None\n",
    "                # print(\"fail jats\")\n",
    "        \n",
    "        # Check if it is a preprint\n",
    "        if bioc is None or bioc == '[]':\n",
    "            unk_dict[key] = None\n",
    "            continue\n",
    "    \n",
    "        dict[key] = bioc\n",
    "\n",
    "    for key in unk_dict:\n",
    "        dict.pop(key, None)\n",
    "\n",
    "    return dict, unk_dict"
   ]
  },
  {
   "cell_type": "code",
   "execution_count": null,
   "id": "f74a6419-2fb0-4092-9ffa-5be4c56aeae0",
   "metadata": {},
   "outputs": [],
   "source": [
    "def get_file_name(key):\n",
    "    doi = re.search(doi_pattern, key)\n",
    "\n",
    "    if doi is not None:\n",
    "        file_name = key.split('doi.org/')[-1]\n",
    "    else:\n",
    "        key = key.split('https://')[-1]\n",
    "        file_name = key\n",
    "\n",
    "    # Replace . in DOI with -\n",
    "    file_name = file_name.replace(\".\", \"-\")\n",
    "    # Replace / in DOI with _\n",
    "    file_name = file_name.replace(\"/\", \"_\")\n",
    "    # file_name += \".pdf\"\n",
    "\n",
    "    return file_name"
   ]
  },
  {
   "cell_type": "markdown",
   "id": "66ea0039-0328-4564-b472-01fe229cb155",
   "metadata": {},
   "source": [
    "# Sort through Pokay data files\n",
    "\n",
    "First, we begin by parsing through all text files in the repository and separating the publications, preprints and grey literature as each require different methods to obtain the BioC JSON."
   ]
  },
  {
   "cell_type": "code",
   "execution_count": null,
   "id": "f5cfb575-6298-43e9-aae0-d22217f183d7",
   "metadata": {},
   "outputs": [],
   "source": [
    "# Initialize dictionaries\n",
    "publication_bioc, publication_key, rxiv_bioc, rxiv_key, grey_bioc, grey_key = recategorize_pokay('../data/pokay/raw/pokay')"
   ]
  },
  {
   "cell_type": "markdown",
   "id": "d44dca58-4d83-436e-a314-4360e9e5c6b6",
   "metadata": {
    "jp-MarkdownHeadingCollapsed": true
   },
   "source": [
    "# Load local dictionary\n",
    "\n",
    "This was used to load progress of previous pokay conversions (if applicable). "
   ]
  },
  {
   "cell_type": "code",
   "execution_count": null,
   "id": "69d53236-9f3a-4e92-b8a9-98ad5cfa208e",
   "metadata": {},
   "outputs": [],
   "source": [
    "# with open('rxiv_bioc.txt') as file:\n",
    "#         rxiv_bioc = json.loads(file.read())\n",
    "\n",
    "# with open('rxiv_unk_bioc.txt') as file:\n",
    "#         rxiv_unk_bioc = json.loads(file.read())\n",
    "\n",
    "# with open('publication_bioc.txt') as file:\n",
    "#         publication_bioc = json.loads(file.read())\n",
    "\n",
    "# with open('publication_unk_bioc.txt') as file:\n",
    "#         publication_unk_bioc = json.loads(file.read())\n",
    "\n",
    "# with open('grey_bioc.txt') as file:\n",
    "#         grey_bioc = json.loads(file.read())"
   ]
  },
  {
   "cell_type": "markdown",
   "id": "da431fb5-c522-487b-a3c7-cb4f10885a53",
   "metadata": {},
   "source": [
    "# Part 1: Fetching literature via APIs"
   ]
  },
  {
   "cell_type": "markdown",
   "id": "09f393af-7581-45ed-b8d4-2507eb6e992e",
   "metadata": {},
   "source": [
    "## Retrieve BioC JSON for Journal Publications\n",
    "Using the <ins>PubMed API</ins>, we directly retreive BioC JSON for each publication if possible. When this fails, we save the DOIs into the dictionary `publication_unk_bioc` to process it later. \n",
    "\n",
    "Publications that could not be fetched were downloaded as PDFs, converted to HTML using Allen Institute's [tool](https://papertohtml.org/), then converted to BioC JSON using [AutoCorpus](https://github.com/omicsNLP/Auto-CORPus)"
   ]
  },
  {
   "cell_type": "code",
   "execution_count": null,
   "id": "9013c9d7-3197-43e7-80e2-7d6648ef0d64",
   "metadata": {},
   "outputs": [],
   "source": [
    "# Fetch BioC JSON for publications\n",
    "publication_bioc, publication_unk_bioc = get_journal_publication_bioc(publication_bioc)"
   ]
  },
  {
   "cell_type": "markdown",
   "id": "dd691c71-cb26-4a1f-a6c7-9d853f5de40d",
   "metadata": {},
   "source": [
    "## Retrieve BioC JSON for preprints\n",
    "Fetch BioC JSON for preprints by:\n",
    "1. Checking if the preprint is now published and can be fetched using <ins>PubMed API</ins>\n",
    "2. Obtaining the JATS XML using the <ins>Rxiv API</ins> and converting it HTML using XSLT conversion then BioC JSON format using [AutoCorpus](https://github.com/omicsNLP/Auto-CORPus)"
   ]
  },
  {
   "cell_type": "code",
   "execution_count": null,
   "id": "e0cadf20-c037-4075-abce-ae78734de839",
   "metadata": {},
   "outputs": [],
   "source": [
    "# Fetch BioC JSON for preprints\n",
    "rxiv_bioc, rxiv_unk_bioc = get_rxiv_bioc(rxiv_bioc)"
   ]
  },
  {
   "cell_type": "code",
   "execution_count": null,
   "id": "1dd5e397-3492-4e9b-8287-1bd61532826f",
   "metadata": {},
   "outputs": [],
   "source": [
    "to_pop = []\n",
    "for key in rxiv_bioc:\n",
    "    if rxiv_bioc[key] is None:\n",
    "        rxiv_unk_bioc[key] = None\n",
    "        to_pop.append(key)\n",
    "\n",
    "for p in to_pop:\n",
    "    rxiv_bioc.pop(key, None)"
   ]
  },
  {
   "cell_type": "markdown",
   "id": "21cb2c2e-cd0e-4ad0-b120-b2402a13884b",
   "metadata": {},
   "source": [
    "### Manually conversion of preprints\n",
    "Certain preprints required specific processing to obtain their BioC JSON"
   ]
  },
  {
   "cell_type": "code",
   "execution_count": null,
   "id": "0221dc66-32a4-4c7d-9765-6ba24424e542",
   "metadata": {},
   "outputs": [],
   "source": [
    "# Preprint 1 \n",
    "key = 'https://doi.org/10.1101/2021.02.03.429164v4'\n",
    "\n",
    "# Not found manually search up online\n",
    "# Special doi\n",
    "doi = 'https://doi-org.ezproxy.lib.ucalgary.ca/10.1038/s41587-022-01382-3'\n",
    "\n",
    "doi_part = doi.split('.ca/')[-1]\n",
    "\n",
    "# Api link for paper details\n",
    "api_link = 'https://www-ncbi-nlm-nih-gov.ezproxy.lib.ucalgary.ca/pmc/utils/idconv/v1.0/?tool=doi2pmid&email=david.yang1@ucalgary.ca&ids=' + doi_part\n",
    "paper = requests.get(api_link)\n",
    "soup = BeautifulSoup(paper.content, \"xml\")        \n",
    "pmid = soup.find('record')['pmid']\n",
    "\n",
    "bioc = get_pubtator_bioc_json(pmid)\n",
    "\n",
    "rxiv_unk_bioc[key] = bioc"
   ]
  },
  {
   "cell_type": "code",
   "execution_count": null,
   "id": "678bd4bd-7927-4586-8b19-72f1c4896565",
   "metadata": {},
   "outputs": [],
   "source": [
    "# Preprint 2\n",
    "key = 'https://doi.org/10.21203/rs.3.rs-226857/v1'\n",
    "\n",
    "# Special doi\n",
    "doi = 'https://doi-org.ezproxy.lib.ucalgary.ca/10.1038/s41467-021-25167-5'\n",
    "\n",
    "doi_part = doi.split('.ca/')[-1]\n",
    "\n",
    "# Api link for paper details\n",
    "api_link = 'https://www-ncbi-nlm-nih-gov.ezproxy.lib.ucalgary.ca/pmc/utils/idconv/v1.0/?tool=doi2pmid&email=david.yang1@ucalgary.ca&ids=' + doi_part\n",
    "paper = requests.get(api_link)\n",
    "soup = BeautifulSoup(paper.content, \"xml\")        \n",
    "pmid = soup.find('record')['pmid']\n",
    "\n",
    "bioc = get_pubtator_bioc_json(pmid)\n",
    "\n",
    "rxiv_unk_bioc[key] = bioc"
   ]
  },
  {
   "cell_type": "code",
   "execution_count": null,
   "id": "040636bb-3bda-42a6-b9f9-3b035b01a401",
   "metadata": {},
   "outputs": [],
   "source": [
    "# Preprint 4\n",
    "key = 'https://doi.org/10.1101/2021.12.24.21268382v1.full'\n",
    "\n",
    "doi = 'https://doi.org/10.1101/2021.12.24.21268382'\n",
    "\n",
    "details = get_rxiv_details(doi, False).decode('utf-8')\n",
    "jats_xml = get_rxiv_jats_xml(details)\n",
    "file_name = key.split('doi.org/')[-1]\n",
    "# Replace . in DOI with -\n",
    "file_name = file_name.replace(\".\", \"-\")\n",
    "# Replace / in DOI with _\n",
    "file_name = file_name.replace(\"/\", \"_\")\n",
    "output_file = '../data/pokay/processed/html/' + file_name + \".html\"\n",
    "convert_jatsxml_to_html(jats_xml, output_file)\n",
    "\n",
    "rxiv_unk_bioc[key] = \"converting\""
   ]
  },
  {
   "cell_type": "code",
   "execution_count": null,
   "id": "f60a16c8-df6b-4b82-80ce-29bb90e6ab15",
   "metadata": {},
   "outputs": [],
   "source": [
    "# Preprint 5\n",
    "key = 'https://doi.org/10.1101/2021.03.09.434607v9'\n",
    "\n",
    "# Not found manually search up online\n",
    "doi = 'https://doi.org/10.1101/2021.03.09.434607'\n",
    "\n",
    "details = get_rxiv_details(doi, True).decode('utf-8')\n",
    "\n",
    "jats_xml = get_rxiv_jats_xml(details)\n",
    "file_name = key.split('doi.org/')[-1]\n",
    "# Replace . in DOI with -\n",
    "file_name = file_name.replace(\".\", \"-\")\n",
    "# Replace / in DOI with _\n",
    "file_name = file_name.replace(\"/\", \"_\")\n",
    "output_file = '../data/pokay/processed/html/' + file_name + \".html\"\n",
    "convert_jatsxml_to_html(jats_xml, output_file)\n",
    "\n",
    "rxiv_unk_bioc[key] = \"converting\""
   ]
  },
  {
   "cell_type": "code",
   "execution_count": null,
   "id": "04ad0401-65e9-46c7-84fb-5326299b3ad1",
   "metadata": {},
   "outputs": [],
   "source": [
    "# Special case\n",
    "key = \"https://doi.org/10.1101/2021.03.24.436850\"\n",
    "details = get_rxiv_details(key, True).decode('utf-8')\n",
    "jats_xml = get_rxiv_jats_xml(details)\n",
    "file_name = key.split('doi.org/')[-1]\n",
    "# Replace . in DOI with -\n",
    "file_name = file_name.replace(\".\", \"-\")\n",
    "# Replace / in DOI with _\n",
    "file_name = file_name.replace(\"/\", \"_\")\n",
    "output_file = '../data/pokay/processed/html/' + file_name + \".html\"\n",
    "convert_jatsxml_to_html(jats_xml, output_file)\n",
    "\n",
    "rxiv_unk_bioc[key] = \"converting\"\n",
    "\n",
    "# print(file_name)"
   ]
  },
  {
   "cell_type": "markdown",
   "id": "e0730ecd-f0f1-457f-b485-3d7d9265fbdd",
   "metadata": {},
   "source": [
    "## Retrieve BioC JSON for grey literature\n",
    "Each individual article of grey literature was processed separately. This included:\n",
    "- Directly fetching the BioC JSON from PubMed API when possible\n",
    "- Downloading the PDF of the article and converting it to HTML using Allen Institute's [tool](https://papertohtml.org/)<sup>*</sup>\n",
    "- Retrieving the HTML of the web article<sup>*</sup>\n",
    "\n",
    "<sup>*</sup> HTML files are converted to BioC JSON format using [AutoCorpus](https://github.com/omicsNLP/Auto-CORPus)"
   ]
  },
  {
   "cell_type": "code",
   "execution_count": null,
   "id": "978a5016-d80d-4b53-b7c8-0e01ec75432e",
   "metadata": {},
   "outputs": [],
   "source": [
    "# Grey 1\n",
    "key = 'https://www.fda.gov/media/155050/download'\n",
    "# Cannot convert (PDF)"
   ]
  },
  {
   "cell_type": "code",
   "execution_count": null,
   "id": "a61e59fc-6b39-4d4a-aaa8-7f404c586470",
   "metadata": {},
   "outputs": [],
   "source": [
    "# Grey 2\n",
    "key = 'https://observablehq.com/@aglucaci/sc2-omicron'\n",
    "# Cannot convert (web)"
   ]
  },
  {
   "cell_type": "code",
   "execution_count": null,
   "id": "cad50872-b15f-4656-8c2a-80d3095b78c2",
   "metadata": {},
   "outputs": [],
   "source": [
    "# Grey 3\n",
    "key = 'https://assets.publishing.service.gov.uk/government/uploads/system/uploads/attachment_data/file/1009243/Technical_Briefing_20.pdf'\n",
    "# Cannot convert (PDF)"
   ]
  },
  {
   "cell_type": "code",
   "execution_count": null,
   "id": "dba70474-4a97-4d0c-acaa-db5388fa739f",
   "metadata": {},
   "outputs": [],
   "source": [
    "# Grey 4\n",
    "key = 'https://assets.publishing.service.gov.uk/government/uploads/system/uploads/attachment_data/file/961042/S1095_NERVTAG_update_note_on_B.1.1.7_severity_20210211.pdf'\n",
    "# Cannot convert (PDF)"
   ]
  },
  {
   "cell_type": "code",
   "execution_count": null,
   "id": "4ca35ef7-65cd-48a6-a566-52d3985f4acd",
   "metadata": {},
   "outputs": [],
   "source": [
    "# Grey 5\n",
    "key = 'https://doi.org/10.47326/ocsat.dashboard.2021.1.0'\n",
    "# Cannot convert (web)"
   ]
  },
  {
   "cell_type": "code",
   "execution_count": null,
   "id": "3ed2a278-c1e3-4424-b0e4-6aabaeb12902",
   "metadata": {},
   "outputs": [],
   "source": [
    "# Grey 6\n",
    "key = 'https://www.covid19genomics.dk/2021-05-08_data-overview.html#b1525'\n",
    "# Cannot convert (web)"
   ]
  },
  {
   "cell_type": "code",
   "execution_count": null,
   "id": "f50f7039-50de-4848-b45b-4afbfb26c64f",
   "metadata": {},
   "outputs": [],
   "source": [
    "# Grey 7\n",
    "key = 'https://cmmid.github.io/topics/covid19/reports/sa-novel-variant/2021_01_11_Transmissibility_and_severity_of_501Y_V2_in_SA.pdf'\n",
    "# Cannot convert (PDF)"
   ]
  },
  {
   "cell_type": "code",
   "execution_count": null,
   "id": "2b3ee51f-5b3f-437c-a144-1c6b6c70c596",
   "metadata": {},
   "outputs": [],
   "source": [
    "# Grey 8\n",
    "key = 'https://drive.google.com/file/d/1CuxmNYj5cpIuxWXhjjVmuDqntxXwlfXQ/view'\n",
    "# Cannot convert (PDF)"
   ]
  },
  {
   "cell_type": "code",
   "execution_count": null,
   "id": "810b2b76-f207-4a8b-84ed-b0045360a666",
   "metadata": {},
   "outputs": [],
   "source": [
    "# Grey 9\n",
    "key = 'https://doi.org/10.15585/mmwr.mm7034e4'\n",
    "pmid = get_pmid(key)\n",
    "bioc = get_pubtator_bioc_json(pmid)\n",
    "grey_bioc[key] = bioc"
   ]
  },
  {
   "cell_type": "code",
   "execution_count": null,
   "id": "7fc63b91-5f1e-4b59-a7a2-0adc0cf53331",
   "metadata": {},
   "outputs": [],
   "source": [
    "# Grey 10\n",
    "key = 'https://doi.org/10.15585/mmwr.mm7034e3'\n",
    "pmid = get_pmid(key)\n",
    "bioc = get_pubtator_bioc_json(pmid)\n",
    "grey_bioc[key] = bioc"
   ]
  },
  {
   "cell_type": "code",
   "execution_count": null,
   "id": "d5e8c9b1-2b57-495c-9eb8-4bf3ea237094",
   "metadata": {},
   "outputs": [],
   "source": [
    "# Grey 11\n",
    "key = 'https://www.fda.gov/media/146217/download'\n",
    "# Cannot convert (PDF)"
   ]
  },
  {
   "cell_type": "code",
   "execution_count": null,
   "id": "0595530b-5e43-4f17-8fb6-f99675de61d9",
   "metadata": {},
   "outputs": [],
   "source": [
    "# Grey 12\n",
    "key = 'https://doi.org/10.15585/mmwr.mm7017e2'\n",
    "pmid = get_pmid(key)\n",
    "bioc = get_pubtator_bioc_json(pmid)\n",
    "grey_bioc[key] = bioc"
   ]
  },
  {
   "cell_type": "code",
   "execution_count": null,
   "id": "799b1ffe-f5e9-4fb2-ab2b-c373df9e5a3d",
   "metadata": {},
   "outputs": [],
   "source": [
    "# Grey 13\n",
    "key = 'https://www.moh.gov.sg/news-highlights/details/3-new-cases-of-locally-transmitted-covid-19-infection-28apr2021-update'\n",
    "# Cannot convert (PDF)"
   ]
  },
  {
   "cell_type": "code",
   "execution_count": null,
   "id": "2f3c64b5-42f2-4f8b-9139-05121a4629ca",
   "metadata": {},
   "outputs": [],
   "source": [
    "# Grey 14\n",
    "key = 'https://mg.co.za/coronavirus-essentials/2021-03-24-single-dose-jj-janssen-covid-19-vaccine-hopes-to-speed-up-sas-vaccination-programme/'\n",
    "# Cannot convert (web)"
   ]
  },
  {
   "cell_type": "code",
   "execution_count": null,
   "id": "b5f56cdc-c34a-4cc7-85c6-653f5be2c034",
   "metadata": {},
   "outputs": [],
   "source": [
    "# Grey 15\n",
    "key = 'https://github.com/cov-lineages/pango-designation/issues/4'\n",
    "# Cannot convert (web)"
   ]
  },
  {
   "cell_type": "markdown",
   "id": "778b6ce7-68c7-4977-a925-2f9ec5ed9033",
   "metadata": {},
   "source": [
    "# Part 2: Processing manual conversions"
   ]
  },
  {
   "cell_type": "markdown",
   "id": "65e6e177-d692-48c1-b514-d02d0f40eb55",
   "metadata": {},
   "source": [
    "### Publication conversion\n",
    "BioC JSON files that were obtained through manual conversions  were processed and loaded into their dictionary. "
   ]
  },
  {
   "cell_type": "code",
   "execution_count": null,
   "id": "6ecff50a-61b1-4277-b22b-9ea9896a525e",
   "metadata": {},
   "outputs": [],
   "source": [
    "cannot_convert_publication = {}\n",
    "\n",
    "for key in publication_unk_bioc:\n",
    "    if publication_unk_bioc[key] is None:\n",
    "        cannot_convert_publication[key] = None"
   ]
  },
  {
   "cell_type": "code",
   "execution_count": null,
   "id": "eda4f099-d7ad-423a-bd3a-dc8f674f6235",
   "metadata": {},
   "outputs": [],
   "source": [
    "# Fetch manual conversions: PDF -> HTML -> BioC JSON\n",
    "for key in cannot_convert_publication:\n",
    "    file = get_file_name(key)\n",
    "    file = \"/home/david.yang1/autolit/viriation/data/pokay/processed/bioc_paper/\" + file + \"_bioc.json\"\n",
    "    try:\n",
    "        # print(file)\n",
    "        cannot_convert_publication[key] = Path(file).read_text().replace('\\n', '')\n",
    "        \n",
    "    except:\n",
    "        print(file)\n",
    "        pass"
   ]
  },
  {
   "cell_type": "markdown",
   "id": "b89388b6-2fbb-4af2-826a-09549564e19a",
   "metadata": {},
   "source": [
    "### Rxiv conversion\n",
    "\n",
    "BioC JSON files that were obtained through manual conversions were processed and loaded into their dictionary. Previously, preprints that could be fetched as JATS XML instead were labelled as `\"converting\"` in the dictionaries. Meanwhile, preprints that could not be fetched with any API and had to be retrieved manually via PDF were labelled `None` in the dictionary."
   ]
  },
  {
   "cell_type": "code",
   "execution_count": null,
   "id": "900c7135-0e88-4067-978e-03ba45d9ff9b",
   "metadata": {},
   "outputs": [],
   "source": [
    "# Fetch conversions from earlier for rxiv_bioc: JATS XML -> HTML -> BioC JSON\n",
    "for key in rxiv_bioc:\n",
    "    if rxiv_bioc[key] == \"converting\":\n",
    "        file = get_file_name(key)\n",
    "        file = \"/home/david.yang1/autolit/viriation/data/pokay/processed/bioc/\" + file + \"_bioc.json\"\n",
    "        try:\n",
    "            rxiv_bioc[key] = Path(file).read_text().replace('\\n', '')\n",
    "        except:\n",
    "            print(file)\n",
    "            pass"
   ]
  },
  {
   "cell_type": "code",
   "execution_count": null,
   "id": "3f4f61f7-2e87-4a69-a922-08fca00cce73",
   "metadata": {},
   "outputs": [],
   "source": [
    "# Fetch conversions from earlier for rxiv_unk_bioc: JATS XML -> HTML -> BioC JSON\n",
    "for key in rxiv_unk_bioc:\n",
    "    if rxiv_unk_bioc[key] == \"converting\":\n",
    "        file = get_file_name(key)\n",
    "        file = \"/home/david.yang1/autolit/viriation/data/pokay/processed/bioc/\" + file + \"_bioc.json\"\n",
    "        try:\n",
    "            rxiv_unk_bioc[key] = Path(file).read_text().replace('\\n', '')\n",
    "        except:\n",
    "            print(file)\n",
    "            print(key)\n",
    "            pass"
   ]
  },
  {
   "cell_type": "code",
   "execution_count": null,
   "id": "23e1bac3-37ee-40a8-bf6f-24cf9418dbc5",
   "metadata": {},
   "outputs": [],
   "source": [
    "cannot_convert_rxiv = {}\n",
    "\n",
    "for key in rxiv_unk_bioc:\n",
    "    if rxiv_unk_bioc[key] is None:\n",
    "        cannot_convert_rxiv[key] = None"
   ]
  },
  {
   "cell_type": "code",
   "execution_count": null,
   "id": "dd21defc-9ec9-47a5-8ede-a370b08ca137",
   "metadata": {},
   "outputs": [],
   "source": [
    "print(len(cannot_convert_rxiv))\n",
    "print(sum(x is None for x in rxiv_unk_bioc.values()))\n",
    "print(sum(x == 'converting' for x in rxiv_unk_bioc.values()))"
   ]
  },
  {
   "cell_type": "code",
   "execution_count": null,
   "id": "77889dd3-55dd-4bfe-ad42-36ff5643e3cc",
   "metadata": {},
   "outputs": [],
   "source": [
    "# Fetch manual conversions. PDF -> HTML -> BioC JSON\n",
    "for key in cannot_convert_rxiv:\n",
    "    file = get_file_name(key)\n",
    "    file = \"/home/david.yang1/autolit/viriation/data/pokay/processed/bioc_other/\" + file + \"_bioc.json\"\n",
    "    try:\n",
    "        # print(file)\n",
    "        cannot_convert_rxiv[key] = Path(file).read_text().replace('\\n', '')\n",
    "    except:\n",
    "        print(file)\n",
    "        pass"
   ]
  },
  {
   "cell_type": "markdown",
   "id": "e528dd6e-5ec1-4e92-a3a2-dcf66f621b40",
   "metadata": {},
   "source": [
    "### Grey conversion\n",
    "BioC JSON files that were obtained through manual conversions were processed and loaded into their dictionary."
   ]
  },
  {
   "cell_type": "code",
   "execution_count": null,
   "id": "00b55948-9240-4f94-bd6d-e40fc0f03eee",
   "metadata": {},
   "outputs": [],
   "source": [
    "cannot_convert_grey = {}\n",
    "\n",
    "for key in grey_bioc:\n",
    "    if grey_bioc[key] is None:\n",
    "        cannot_convert_grey[key] = None"
   ]
  },
  {
   "cell_type": "code",
   "execution_count": null,
   "id": "593c0d6e-c7ba-45b6-b587-cb0919d27a77",
   "metadata": {},
   "outputs": [],
   "source": [
    "# Fetch manual conversions: PDF -> HTML -> BioC JSON\n",
    "for key in cannot_convert_grey:\n",
    "    file = get_file_name(key)\n",
    "    file = \"/home/david.yang1/autolit/viriation/data/pokay/processed/bioc_other/\" + file + \"_bioc.json\"\n",
    "    try:\n",
    "        # print(file)\n",
    "        cannot_convert_grey[key] = Path(file).read_text().replace('\\n', '')\n",
    "    except:\n",
    "        print(file)\n",
    "        pass"
   ]
  },
  {
   "cell_type": "markdown",
   "id": "7152dc55-0e2f-4e20-8949-4cc5e1f2e7cc",
   "metadata": {},
   "source": [
    "# Part 3: Combining dictionaries for final result"
   ]
  },
  {
   "cell_type": "code",
   "execution_count": null,
   "id": "16b70ffc-3c0d-4b90-9431-66375b136c84",
   "metadata": {},
   "outputs": [],
   "source": [
    "# Update publications bioc dictionary\n",
    "publication_unk_bioc.update(cannot_convert_publication)\n",
    "publication_bioc.update(publication_unk_bioc)"
   ]
  },
  {
   "cell_type": "code",
   "execution_count": null,
   "id": "7040aa4c-a09a-4643-9874-9586856f4bf0",
   "metadata": {},
   "outputs": [],
   "source": [
    "# publications that could not be converted (DOI no longer exists)\n",
    "print(sum(x is None for x in publication_bioc.values()))\n",
    "\n",
    "for key in publication_bioc:\n",
    "    if publication_bioc[key] is None:\n",
    "        print(key)"
   ]
  },
  {
   "cell_type": "code",
   "execution_count": null,
   "id": "7747d021-4ce9-4717-a305-83e7adb77d97",
   "metadata": {},
   "outputs": [],
   "source": [
    "# preprints that could not be converted (formatting issues of article)\n",
    "print(sum(x is None for x in rxiv_bioc.values()))\n",
    "\n",
    "for key in rxiv_bioc:\n",
    "    if rxiv_bioc[key] is None:\n",
    "        print(key)\n",
    "    elif rxiv_bioc[key] == \"converting\":\n",
    "        print(key)"
   ]
  },
  {
   "cell_type": "code",
   "execution_count": null,
   "id": "bbdb67f3-875e-483a-92f5-1be7da631113",
   "metadata": {},
   "outputs": [],
   "source": [
    "# preprints that could not be converted (formatting issues of article) \n",
    "for key in rxiv_unk_bioc:\n",
    "    if rxiv_unk_bioc[key] is None:\n",
    "        print(key)\n",
    "    if rxiv_unk_bioc[key] == \"converting\":\n",
    "        print(key)"
   ]
  },
  {
   "cell_type": "code",
   "execution_count": null,
   "id": "204f6fbe-747b-4ca3-9755-f47f9acbf89a",
   "metadata": {},
   "outputs": [],
   "source": [
    "# Update rxiv bioc dictionary\n",
    "rxiv_unk_bioc.update(cannot_convert_rxiv)\n",
    "rxiv_bioc.update(rxiv_unk_bioc)"
   ]
  },
  {
   "cell_type": "code",
   "execution_count": null,
   "id": "0234ff2e-2ef7-4401-af2c-f6ba5f76583f",
   "metadata": {},
   "outputs": [],
   "source": [
    "# Preprints that could not be converted\n",
    "sum(x is None for x in rxiv_bioc.values())"
   ]
  },
  {
   "cell_type": "code",
   "execution_count": null,
   "id": "5d27e2d1-ab1c-4fa0-bc08-177d803e34c6",
   "metadata": {},
   "outputs": [],
   "source": [
    "# Update grey bioc dictionary\n",
    "grey_bioc.update(cannot_convert_grey)"
   ]
  },
  {
   "cell_type": "code",
   "execution_count": null,
   "id": "0451569a-9c29-42b7-9a29-71b745ffcad7",
   "metadata": {},
   "outputs": [],
   "source": [
    "# Grey literature that could not be converted\n",
    "sum(x is None for x in grey_bioc.values())"
   ]
  },
  {
   "cell_type": "code",
   "execution_count": null,
   "id": "6fa85a42-4f5e-4792-b6f1-4632ba428a75",
   "metadata": {},
   "outputs": [],
   "source": [
    "# Overlap in papers\n",
    "sum(x in publication_bioc for x in rxiv_bioc)"
   ]
  },
  {
   "cell_type": "code",
   "execution_count": null,
   "id": "4ddce246-fe4e-4358-bc37-dc2e0641d01c",
   "metadata": {},
   "outputs": [],
   "source": [
    "# Combine all dictionaries together\n",
    "data_bioc = copy.deepcopy(publication_bioc)\n",
    "data_bioc.update(rxiv_bioc)\n",
    "data_bioc.update(grey_bioc)\n",
    "\n",
    "data_keys = copy.deepcopy(publication_key)\n",
    "data_keys.update(rxiv_key)\n",
    "data_keys.update(grey_key)"
   ]
  },
  {
   "cell_type": "code",
   "execution_count": null,
   "id": "b25ac5b5-9b41-4bdd-b6ca-72836e8a71d3",
   "metadata": {},
   "outputs": [],
   "source": [
    "# Literature that could not be processed\n",
    "sum(x is None for x in data_bioc.values())"
   ]
  },
  {
   "cell_type": "code",
   "execution_count": null,
   "id": "8a255aed-d6b0-456e-8a04-7c4ad0128d78",
   "metadata": {},
   "outputs": [],
   "source": [
    "# Literature that could not be processed\n",
    "sum(x == \"converting\" for x in data_bioc.values())"
   ]
  },
  {
   "cell_type": "markdown",
   "id": "81affc18-afdc-4823-bd1b-46a8558fb76e",
   "metadata": {},
   "source": [
    "## Save dictionary results locally"
   ]
  },
  {
   "cell_type": "code",
   "execution_count": null,
   "id": "82b30ee4-a1fc-406a-b1e2-6b8a51bb35e6",
   "metadata": {},
   "outputs": [],
   "source": [
    "# with open('../data/pokay/rxiv_bioc.txt', 'w') as file:\n",
    "#      file.write(json.dumps(rxiv_bioc))\n",
    "\n",
    "# with open('../data/pokay/rxiv_unk_bioc.txt', 'w') as file:\n",
    "#      file.write(json.dumps(rxiv_unk_bioc))\n",
    "\n",
    "# with open('../data/pokay/publication_bioc.txt', 'w') as file:\n",
    "#      file.write(json.dumps(publication_bioc))\n",
    "    \n",
    "# with open('../data/pokay/publication_unk_bioc.txt', 'w') as file:\n",
    "#      file.write(json.dumps(cannot_convert_publication))\n",
    "\n",
    "# with open('../data/pokay/grey_bioc.txt', 'w') as file:\n",
    "#      file.write(json.dumps(grey_bioc))"
   ]
  },
  {
   "cell_type": "code",
   "execution_count": null,
   "id": "a6cdeff7-2dab-4584-b4b8-546310d50903",
   "metadata": {},
   "outputs": [],
   "source": [
    "# with open('../data/pokay/data_bioc.txt', 'w') as file:\n",
    "#      file.write(json.dumps(data_bioc))\n",
    "\n",
    "# with open('../data/pokay/data_keys.txt', 'w') as file:\n",
    "#      file.write(json.dumps(data_keys))"
   ]
  },
  {
   "cell_type": "markdown",
   "id": "5fe1fb00-10bd-4cfc-9ca4-597418df99a7",
   "metadata": {},
   "source": [
    "## Autocorpus commands for conversion"
   ]
  },
  {
   "cell_type": "code",
   "execution_count": null,
   "id": "25f88530-375b-4bc1-838d-731e38b943dd",
   "metadata": {},
   "outputs": [],
   "source": [
    "# python run_app.py -c \"../../data/other/config_allen.json\" -t \"../../data/processed/bioc_paper/\" -f \"../../data/processed/html/10-1101_2021-03-24-436850\" -o JSON\n",
    "\n",
    "# python submodules/autocorpus/run_app.py -c \"data/other/config_biorxiv.json\" -t \"data/processed/bioc/\" -f \"data/processed/html/\" -o JSON\n",
    "\n",
    "# python run_app.py -c \"../../data/other/config_biorxiv.json\" -t \"../../data/processed/bioc/\" -f \"../../data/processed/html/\" -o JSON\n",
    "\n",
    "# python run_app.py -c \"../../data/other/config_allen.json\" -t \"../../data/processed/bioc_paper/\" -f \"../../data/processed/html_papers/\" -o JSON"
   ]
  }
 ],
 "metadata": {
  "kernelspec": {
   "display_name": "Python 3 (ipykernel)",
   "language": "python",
   "name": "python3"
  },
  "language_info": {
   "codemirror_mode": {
    "name": "ipython",
    "version": 3
   },
   "file_extension": ".py",
   "mimetype": "text/x-python",
   "name": "python",
   "nbconvert_exporter": "python",
   "pygments_lexer": "ipython3",
   "version": "3.11.5"
  }
 },
 "nbformat": 4,
 "nbformat_minor": 5
}
